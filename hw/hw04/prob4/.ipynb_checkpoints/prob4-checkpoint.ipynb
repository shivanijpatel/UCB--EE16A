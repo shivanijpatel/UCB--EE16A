{
 "cells": [
  {
   "cell_type": "markdown",
   "metadata": {},
   "source": [
    "# EECS16A: Homework 4"
   ]
  },
  {
   "cell_type": "markdown",
   "metadata": {},
   "source": [
    "# Problem 5: Image Compression"
   ]
  },
  {
   "cell_type": "code",
   "execution_count": null,
   "metadata": {},
   "outputs": [],
   "source": [
    "%pylab inline"
   ]
  },
  {
   "cell_type": "code",
   "execution_count": null,
   "metadata": {},
   "outputs": [],
   "source": [
    "import numpy as np\n",
    "from scipy import ndimage as nd\n",
    "from scipy import misc\n",
    "from scipy import io"
   ]
  },
  {
   "cell_type": "markdown",
   "metadata": {},
   "source": [
    "### Part a"
   ]
  },
  {
   "cell_type": "code",
   "execution_count": null,
   "metadata": {},
   "outputs": [],
   "source": [
    "#Load Pattern Image\n",
    "pattern = np.load('pattern.npy')\n",
    "plt.imshow(pattern, cmap='gray', interpolation='nearest')"
   ]
  },
  {
   "cell_type": "markdown",
   "metadata": {},
   "source": [
    "Use the command [shape](http://docs.scipy.org/doc/numpy/reference/generated/numpy.ndarray.shape.html) to find the dimensions of the image. How many eigenvalues do you expect? \n",
    "\n",
    "Run the code below to find the eigenvector and eigenvalues of ``pattern`` and sort them in descending order (first eigenvalue/vector corresponds to the largest eigenvalue)"
   ]
  },
  {
   "cell_type": "code",
   "execution_count": null,
   "metadata": {},
   "outputs": [],
   "source": [
    "eig_vals, eig_vectors = np.linalg.eig(pattern)\n",
    "idx = (abs(eig_vals).argsort())\n",
    "idx = idx[::-1]\n",
    "eig_vals = eig_vals[idx]\n",
    "eig_vectors = eig_vectors[:,idx] "
   ]
  },
  {
   "cell_type": "markdown",
   "metadata": {},
   "source": [
    "### Part b\n",
    "\n",
    "Find the pattern approximation using 100 largest eigenvalues/eigenvectors.\n",
    "\n",
    "* Index into above variables to choose the first 100 eigenvalues and eigenvectors.\n",
    "* You can use the command [np.outer](http://docs.scipy.org/doc/numpy/reference/generated/numpy.outer.html) to find the outer product of two vectors"
   ]
  },
  {
   "cell_type": "code",
   "execution_count": null,
   "metadata": {},
   "outputs": [],
   "source": [
    "rank = 100\n",
    "S = np.zeros(pattern.shape)\n",
    "for i in range(rank):\n",
    "    vec_i = eig_vectors[:,i]  # i-th largest eigenvector\n",
    "    val_i = eig_vals[i]       # i-th largest eigenvalue\n",
    "    S += # Your Code \n",
    "plt.imshow(S, cmap='gray', vmin=0, vmax=255)"
   ]
  },
  {
   "cell_type": "markdown",
   "metadata": {},
   "source": [
    "### Part c\n",
    "Find the pattern approximation using 50 largest eigenvalues/eigenvectors\n"
   ]
  },
  {
   "cell_type": "code",
   "execution_count": null,
   "metadata": {},
   "outputs": [],
   "source": [
    "rank = 50 \n",
    "S = np.zeros(pattern.shape)\n",
    "for i in range(rank):\n",
    "    vec_i = eig_vectors[:,i]  # i-th largest eigenvector\n",
    "    val_i = eig_vals[i]       # i-th largest eigenvalue\n",
    "    S += # Your Code Here\n",
    "plt.imshow(S, cmap='gray', vmin=0, vmax=255)"
   ]
  },
  {
   "cell_type": "markdown",
   "metadata": {},
   "source": [
    "Now try decreasing the amount of eigenvalues/eigenvectors used in the pattern approximation. At what point does the image, start to substantially look different?"
   ]
  },
  {
   "cell_type": "code",
   "execution_count": null,
   "metadata": {},
   "outputs": [],
   "source": [
    "rank = ## try different numbers\n",
    "S = np.zeros(pattern.shape)\n",
    "for i in range(rank):\n",
    "    vec_i = eig_vectors[:,i]  # i-th largest eigenvector\n",
    "    val_i = eig_vals[i]       # i-th largest eigenvalue\n",
    "    S += # Your Code Here\n",
    "plt.imshow(S, cmap='gray', vmin=0, vmax=255)"
   ]
  }
 ],
 "metadata": {
  "anaconda-cloud": {},
  "kernelspec": {
   "display_name": "Python 3",
   "language": "python",
   "name": "python3"
  },
  "language_info": {
   "codemirror_mode": {
    "name": "ipython",
    "version": 3
   },
   "file_extension": ".py",
   "mimetype": "text/x-python",
   "name": "python",
   "nbconvert_exporter": "python",
   "pygments_lexer": "ipython3",
   "version": "3.7.4"
  },
  "name": "graphs_for_SOE.ipynb"
 },
 "nbformat": 4,
 "nbformat_minor": 1
}

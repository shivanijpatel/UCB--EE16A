{
 "cells": [
  {
   "cell_type": "markdown",
   "metadata": {},
   "source": [
    "# Imaging Lab 1: Building a Light Sensor\n",
    "\n",
    "### EECS 16A: Designing Information Devices and Systems I, Spring 2020\n",
    "\n",
    "<!--- Linda Du     (ljdu@berkeley.edu)\n",
    "      Leyla Kabuli (lakabuli@berkeley.edu) \n",
    "      Seiya Ono    (scono12@berkeley.edu)\n",
    "---->"
   ]
  },
  {
   "cell_type": "markdown",
   "metadata": {},
   "source": [
    "\n",
    "## Table of Contents\n",
    "\n",
    "* [Instructions](#instructions)\n",
    "* [Lab Policies](#policies)\n",
    "* [Equipment Overview](#equip)\n",
    "    * [Power Supply Unit](#psu)\n",
    "    * [Oscilloscope](#oscope)\n",
    "<br/><br/>    \n",
    "* [Obtain a Lab Kit](#kit)\n",
    "* [Introduction](#intro)\n",
    "  * [System Overview](#overview)\n",
    "  * [Circuit Symbols and Concepts](#review)\n",
    "<br/><br/>   \n",
    "* [Task 1: Breadboarding](#task1)\n",
    "* [Task 2: Setting Up the Ambient Light Sensor](#task2)\n",
    "* [Task 3:  Connecting the Launchpad](#task3)\n",
    "* [Task 4: Virtual Oscilloscopes](#task4)\n",
    "* [Checkoff](#checkoff)\n",
    "* [Additional Resources](#extra)"
   ]
  },
  {
   "cell_type": "markdown",
   "metadata": {},
   "source": [
    "<a id='instructions'></a>\n",
    "## Instructions\n",
    "* Complete this lab by filling in all of the required sections, marked with `\"YOUR CODE HERE\"` or `\"YOUR COMMENTS HERE\"`.\n",
    "\n",
    "\n",
    "* When you finish, submit a checkoff request to get checked off for this lab. Be ready to answer a few questions to show your understanding of each section.\n",
    "\n",
    "\n",
    "* Labs will be graded based on completion for teams of 2 (or 3) students."
   ]
  },
  {
   "cell_type": "markdown",
   "metadata": {},
   "source": [
    "<a id='policies'></a>\n",
    "## Lab Policies\n",
    "* **YOU MUST ATTEND THE LAB SECTION YOU ARE ENROLLED IN. If you anticipate missing a section, please notify your GSI in advance.**\n",
    "* **You are required to return all parts checked out at the beginning of the lab section unless told otherwise.**\n",
    "* **You are free to stay for the full allotted time and hack around with the lab equipment, but please keep the GSI's time in mind and do not work on unrelated assignments.**\n",
    "* **Food and drinks (except water/medical needs) are not allowed in the lab.**\n",
    "* **Clean up, turn off all equipment, and log off of computers before leaving.**"
   ]
  },
  {
   "cell_type": "markdown",
   "metadata": {},
   "source": [
    "<a id='equip'></a>\n",
    "## Equipment Overview\n",
    "\n",
    "This section is meant to introduce you to some of the equipment at your station, which will be used in this lab and future labs. **<span style=\"color:red\">You will find all the information to correctly use each piece of equipment in this [EECS16A Lab Equipment Guide](https://docs.google.com/document/d/e/2PACX-1vTVrGBDbRfVI0_LjSeTfw8doili8iS_E_9Fwdk2UShgf7WAgVVoHtyMOpjXadXwD45HNXUbb2ASF18H/pub#h.xzcoxtym09nb) and you should continue to refer to it whenever you have any questions regarding lab equipment usage for all future labs.</span>**\n",
    "\n",
    "In the next 2 parts you will read over the **Power Supply Unit (PSU)** and **Oscilloscope** sections.\n",
    "<a id='psu'></a>\n",
    "### Power Supply Unit (PSU)\n",
    "At your lab station you will find a device which looks like this:\n",
    "<center>\n",
    "<img src=\"images/supply.jpg\" align=\"center\" style=\"height:180px\" />\n",
    "</center>\n",
    "You can think of this device as a controllable battery that allows you to specify its voltage and current outputs.<br/><br/>\n",
    "\n",
    "**<span style=\"color:red\">First read all 4 subsections of [the PSU instructions](https://docs.google.com/document/d/e/2PACX-1vTVrGBDbRfVI0_LjSeTfw8doili8iS_E_9Fwdk2UShgf7WAgVVoHtyMOpjXadXwD45HNXUbb2ASF18H/pub#h.umhetktvdzwu) then do the following PSU setup steps.</span>** You should be repeating these steps each time before using the PSU and referring to the EECS16A Lab Equipment Guide for details.<br/>\n",
    "\n",
    "You may reference the gif below when setting up the PSU. <br/>\n",
    "<center>\n",
    "<img src=\"images/psu-setup.gif\" align=\"center\" style=\"height:280px\" />\n",
    "</center><br/>\n",
    "\n",
    "**<span style=\"color:red\">Do the following steps.</span>**\n",
    "1. **Get 2 PSU cables** (one black and one red) hanging from the back walls<br/>\n",
    "2. **Turn the PSU on**<br/>\n",
    "3. **Select output channel(s) to use**. Pick the +6V channel and insert the cables into the corresponding ports<br/>\n",
    "4. **Set the current limit** of the +6V channel to <span style=\"color:red\">0.1 A</span><br/>\n",
    "5. **Set the voltage** of the +6 channel to to 3.3 V<br/>\n",
    "6. **Turn the output ON**<br/>\n",
    "7. Between uses and after finishing, **Turn the output OFF**<br/>\n",
    "8. When you are finished using the PSU, turn the PSU power off. <br/> \n"
   ]
  },
  {
   "cell_type": "markdown",
   "metadata": {},
   "source": [
    "**<span style=\"color:red\">Answer the following questions about the PSU.</span>**<br/><br/>\n",
    "1.What do the numbers in the channel names represent?"
   ]
  },
  {
   "cell_type": "markdown",
   "metadata": {},
   "source": [
    "`YOUR ANSWER HERE`"
   ]
  },
  {
   "cell_type": "markdown",
   "metadata": {},
   "source": [
    "2.What is the default current limit we should use in all 16A labs?"
   ]
  },
  {
   "cell_type": "markdown",
   "metadata": {},
   "source": [
    "`YOUR ANSWER HERE`"
   ]
  },
  {
   "cell_type": "markdown",
   "metadata": {},
   "source": [
    "<a id='oscope'></a>\n",
    "### Oscilloscope\n",
    "You will also find the following equipment at your lab station. \n",
    "<center>\n",
    "<img src=\"images/scope.jpg\" align=\"center\" style=\"height:200px\" />\n",
    "</center>\n",
    "The oscilloscope is another useful piece of test equipment that can be used to measure signals (usually **voltage readings**) that change over time. Unlike a voltmeter, which only shows the instantaneous voltage value, the oscilloscope shows a graph of a voltage versus time. This is particularly useful for measuring how devices like sensors respond to inputs. Although this instrument may appear complicated, half of the knobs are just to adjust the axes of the voltage plot.\n",
    "\n",
    "**<span style=\"color:red\">Read the EECS16A Lab Equipment Guide [Osilloscope section](https://docs.google.com/document/d/e/2PACX-1vTVrGBDbRfVI0_LjSeTfw8doili8iS_E_9Fwdk2UShgf7WAgVVoHtyMOpjXadXwD45HNXUbb2ASF18H/pub#h.68cks3ejgw6r) then do the following steps.</span>** And like before, they are important setup steps you should do each time before using the equipment.\n",
    "\n",
    "1. **Get oscilloscope probe** from the back wall. Make sure one end has a spring loaded clip.<br/>\n",
    "2. **Turn oscilloscope on**<br/>\n",
    "3. **Test the probe** -- refer to guide for details<br/>\n",
    "4. **Connect probe to circuit** (hypothetical for now)<br/>\n",
    "5. **Adjust the scale of graph by using the \"Auto Scale\" button**<br/>\n"
   ]
  },
  {
   "cell_type": "markdown",
   "metadata": {},
   "source": [
    "**<span style=\"color:red\">Answer the following questions about the oscilloscope.</span>**<br/><br/>\n",
    "1.What type of waveform should you see when testing the oscilloscope probe?"
   ]
  },
  {
   "cell_type": "markdown",
   "metadata": {},
   "source": [
    "`YOUR ANSWER HERE`"
   ]
  },
  {
   "cell_type": "markdown",
   "metadata": {},
   "source": [
    "2.How do you check if a certain channel is on?"
   ]
  },
  {
   "cell_type": "markdown",
   "metadata": {},
   "source": [
    "`YOUR ANSWER HERE`"
   ]
  },
  {
   "cell_type": "markdown",
   "metadata": {},
   "source": [
    "<a id='kit'></a>\n",
    "## Obtaining a Lab Kit\n",
    "\n",
    "Your lab kit consists of 2 packages:\n",
    "1. TI Launchpad MSP430 + cable\n",
    "2. Clear bag with smaller electrical components\n",
    "\n",
    "<span style=\"color:red\">**Read the [Lab Kit](https://docs.google.com/document/d/e/2PACX-1vTVrGBDbRfVI0_LjSeTfw8doili8iS_E_9Fwdk2UShgf7WAgVVoHtyMOpjXadXwD45HNXUbb2ASF18H/pub#h.cmep78qqg6ul) section** of the EECS16A Lab Equipment Guide and make sure **you can name each of the individual lab kit components** you will be receiving.</span>\n",
    "\n",
    "You will be getting one (and only one) kit per person. It is your responsibility to **bring both parts of the kit to every lab session.** Everything in the kit, including the TI Launchpad MSP430, is yours to keep. All members of each lab group should *bring their own lab kit + launchpad every week* so there are extra materials in case someone forgets or if something breaks.\n",
    "\n",
    "That being said, if you lose anything or something breaks, we can supply you with replacement parts; however, you may have to pay for the replacement parts. **If you plan on taking EECS 16B in the future, remember to hold onto your Launchpad (microcontroller) as you will not get a new one in 16B.**"
   ]
  },
  {
   "cell_type": "markdown",
   "metadata": {},
   "source": [
    "**<span style=\"color:red\">Answer the following questions about your lab kit.</span>**<br/><br/>\n",
    "1.What should you do with your lab kit after completing today's lab?"
   ]
  },
  {
   "cell_type": "markdown",
   "metadata": {},
   "source": [
    "`YOUR ANSWER HERE`"
   ]
  },
  {
   "cell_type": "markdown",
   "metadata": {},
   "source": [
    "2.What 2 things should each person bring to every lab section from now on?"
   ]
  },
  {
   "cell_type": "markdown",
   "metadata": {},
   "source": [
    "`YOUR ANSWER HERE`"
   ]
  },
  {
   "cell_type": "markdown",
   "metadata": {},
   "source": [
    "____\n",
    "<span style=\"color:red\"> Call a lab staff member over to demonstrate that you can use the equipment safely. **You will be asked to do the following in person** before being handed your lab kit.</span>\n",
    "1. **Show your answers to the above 6 questions**\n",
    "2. **Properly set a current limit and voltage on the PSU**\n",
    "3. **Test an oscilloscope probe**\n",
    "4. **Identify some components in the lab kit**\n",
    "___"
   ]
  },
  {
   "cell_type": "markdown",
   "metadata": {},
   "source": [
    "<a id='intro'></a>\n",
    "## Introduction\n",
    "Welcome to the first lab in the imaging module! The goal of this module is to build the imaging system introduced in class. The physical components of this system include a pico projector, ambient light sensor, some passive electronics, and a [TI MSP430 Launchpad](http://www.ti.com/ww/en/launchpad/launchpad.html?DCMP=rtos&HQS=ep-sdo-rtos-pr-lp-launchpad-en) microcontroller. The completed setup of the imaging system is shown below. \n",
    "<br><br>\n",
    "<center>\n",
    "<img src=\"images/old_setup.jpg\" style=\"width:550px\" />\n",
    "</center>\n",
    "\n",
    "We will not be using the projector or stand today; this is the setup you will be building next week.\n",
    "\n",
    "<a id='overview'></a>\n",
    "### System Overview\n",
    "The following figure shows a high-level block model of our imaging system. Here is the system flow: 1) The ambient light sensor converts light energy into electrical current; more ambient light leads to more current. 2) The current produced by the ambient light sensor then travels through passive electrical components. This translates the current into a detectable signal (a voltage signal). 3) The TI Launchpad reads this signal, digitizes it, and sends it to the PC. 4) The digitized signal gets converted into an image by some linear algebra code written in your iPython (Jupyter) notebook. Further improvements are made via software to increase the quality of the image.\n",
    "<center>\n",
    "<img src=\"images/system_diagram.svg\" style=\"height:256px\" />\n",
    "</center>\n",
    "\n",
    "Digital images are composed of a grid of [pixels](http://en.wikipedia.org/wiki/Pixel), each of which represents a single color. To create a digital representation, optical imaging systems measure the energy, equivalent to light in this case, reflected off of objects to determine the values of these pixels. Because different colors reflect different amounts of light, measurements of reflected light intensity can be used to differentiate between colors.\n",
    "<br/><br/>\n",
    "\n",
    "<center>\n",
    "<img src=\"images/overview.svg\" style=\"height:256px\"/>\n",
    "</center>\n",
    "\n",
    "Commercial cameras, such as those found in smartphones, use chips called CMOS image sensors to measure millions of pixel values at a time (think of this as millions of devices akin to the ambient light sensor that all fit on an approximately 30mm$^2$ chip). In contrast, our system can only measure one light intensity value at a time, so we will instead use a controlled energy source, the projector, to illuminate specific regions of the image. We then use the ambient light sensor to record the energy that reflects off of those regions.\n",
    "\n",
    "The ambient light sensor converts light to induce a flow of electrons. The circuit then outputs a voltage that changes in real time, depending on the light intensity. The voltage can be thought of as a real \"analog\" value, serving as a starting point for being able to represent our image on a computer. We use a microcontroller (Launchpad) to take samples of the voltage signal and convert them to a set of digital numbers that we can then use in our Jupyter (iPython) notebook.\n",
    "\n",
    "<a id='review'></a>\n",
    "### Circuit Symbols and Concepts\n",
    "The figure below shows the circuit symbols relevant to this lab and a picture of the real components they represent. Don't feel intimidated if you don't know what these things are. **At this point in the course, you are NOT expected to know what these components are or what they are supposed to do.** You will eventually master these components during the circuits part of 16A. But if you're curious and need to know now, Wikipedia is your friend in this case.\n",
    "<br>\n",
    "<center>\n",
    "<img src=\"images/circuit-symbols.svg\" align=\"center\" style=\"height:256px\"/>\n",
    "</center>\n",
    "<br/>\n",
    "A voltage is defined as a difference in electric potential between two points. For example, the voltage source we will be using in this lab has a potential difference of $+3.3V$ between its positive and negative terminals. Because a voltage must be defined across two points, it is often convenient to define a common point in a circuit as a reference. This reference voltage, commonly referred to as \"ground\" (GND), is defined by convention to be $0V$, and therefore allows us to conveniently describe voltages at any point in the circuit with respect to $0V$.  "
   ]
  },
  {
   "cell_type": "markdown",
   "metadata": {},
   "source": [
    "<a id='task1'></a>\n",
    "## <span style=\"color:blue\">Task 1: Breadboarding Basics</span>\n",
    "\n",
    "Breadboards (the rectangular blocks in your lab kit) are useful tools that can be used to quickly and easily prototype circuits. The purpose of the breadboarding basics part of this lab is to familiarize you with converting circuit diagrams into breadboard layouts. The skills you pick up in this task will help the following labs go much faster.\n",
    "<img style=\"height: 300px;\" src=\"images\\bb_intro_1.png\"/></div>"
   ]
  },
  {
   "cell_type": "markdown",
   "metadata": {},
   "source": [
    "<a id='task4c'></a>\n",
    "## <span style=\"color:blue\">Task 1a: Breadboarding Intuition</span>\n",
    "\n",
    "## Circuits Background\n",
    "**Circuit with Resistor and LED in Series**\n",
    "\n",
    "![schematic](images/diag.png)\n",
    "\n",
    "The circuit we will be working with has the following components:\n",
    "0. **LED** - lights up when a high enough current flows through it in the correct direction. **Current should flow into the long leg (+) and out of the short leg (-)**\n",
    "0. **Resistor** - resists the flow of current through it and has a voltage drop across it\n",
    "0. **Power Supply Unit (PSU)** - enforces a fixed voltage between + and - (also called ground) ports\n",
    "0. **Wires** - conductive metal which lets current flow through it. Has the same potential along all points on it\n",
    "\n",
    "Current flows from high to low potential so it'll come out of the + port of the PSU looking for least resistive paths to get to the - port of the PSU. In our schematic, the current will first flow out of the + PSU through the LED (if the LED polarity is correct) then the resistor before reaching the - terminal of the PSU. \n",
    "\n",
    "\n",
    "![current flow](images/diag_current.png)\n"
   ]
  },
  {
   "cell_type": "markdown",
   "metadata": {},
   "source": [
    "Now we will walk through a couple of exercises to get more familiar with breadboarding and its benefits! For the following 3 exercises we will be trying to build the same schematic.\n",
    "\n",
    "\n",
    "#### Materials & Equipment\n",
    "Make sure you (still) have the following at your station:\n",
    "- PSU (Power Supply Unit) cable, 1x black and 1x red - from back wall\n",
    "- Oscilloscope probe - from back wall\n",
    "- 1x LED - from lab kit\n",
    "- 1x resistor (1k $\\Omega$) - from TA desk\n",
    "- male to male wires - from lab kit\n",
    "- 1x breadboard - from lab kit\n",
    "\n",
    "**<span style=\"color:red\">Reminder to use [this doc](https://docs.google.com/document/d/e/2PACX-1vTVrGBDbRfVI0_LjSeTfw8doili8iS_E_9Fwdk2UShgf7WAgVVoHtyMOpjXadXwD45HNXUbb2ASF18H/pub#h.xzcoxtym09nb) for any questions regarding equipment usage.</span>**\n",
    "\n",
    "## Step 1: No Breadboard\n",
    "<img style=\"height: 300px;\" src=\"images/diag.png\"/></div>\n",
    "\n",
    "\n",
    "First let's see how we can build the above schematic without using a breadboard.\n",
    "\n",
    "0. Clip the + PSU cable to the long leg of LED\n",
    "0. Clip the - PSU cable to one resistor leg\n",
    "0. Touch the short leg of the LED to the other leg of the resistor\n",
    "0. Set the PSU to 3.3 V (current limit 0.1 A) and turn on the PSU\n",
    "\n",
    "<img style=\"height: 200px;\" src=\"images\\withoutbreadboard.png\"/></div>\n",
    "\n",
    "\n",
    "The LED should have lit up! Try imagining the current flow through your circuit and convince yourself that it's exactly the same as the schematic we have."
   ]
  },
  {
   "cell_type": "markdown",
   "metadata": {},
   "source": [
    "**ANSWER THE FOLLOWING QUESTIONS:**\n",
    "<font color=\"red\">\n",
    "1. Use the oscilloscope probe to measure the voltage difference between the PSU ground and any point on the wire between LED and resistor. (Do this by attaching the black clip to the metal of the black PSU cable and clipping the gray spring loaded tip to the point you want to measure.) What is the value of the voltage reading on the oscilloscope screen? <br><br>\n",
    "\n",
    "`YOUR ANSWER HERE` <br><br>\n",
    "\n",
    "2. Now move the gray tip to a different point on the same segment of wire(/s) between the LED and resistor. Did the voltage reading change? What is true about the voltage reading of all points on a wire/conductor? <br><br>\n",
    "\n",
    "`YOUR ANSWER HERE` <br><br>\n",
    "\n",
    "3. What is the voltage when you move the oscilloscope probe to the long leg of the LED? <br><br>\n",
    "\n",
    "`YOUR ANSWER HERE` <br><br>\n",
    "\n",
    "4. What about to the resistor leg that connects to (-) black PSU port?<br><br>\n",
    "\n",
    "`YOUR ANSWER HERE` \n",
    "\n",
    "</font>\n",
    "\n"
   ]
  },
  {
   "cell_type": "markdown",
   "metadata": {},
   "source": [
    "We have discovered one way to build our circuit schematic! However, you can probably already tell that this method is not very scalable especially if you and your partner are still physically holding the legs together. Now imagine that our schematic was more complex and involved more resistors and LEDs. It will be hard to manually keep all the components together with good connection and will end up being very fragile and messy.\n",
    "\n",
    "\n",
    "## Step 2: Breadboarding with Power Rails\n",
    "Now let's try taking advantage of the breadboard to help us make these electrical connections for the same schematic! Make sure the PSU is turned off before starting.\n",
    "\n",
    "0. Insert the LED and resistor into the breadboard like in the image below. Make sure the longer LED leg is in a lower row number.\n",
    "0. Clip the red PSU cable to one end of a <font color=\"red\">red</font> male to male wire and do the same with the black PSU wire and a **black** male to male wire.\n",
    "0. Insert the red PSU jumper wire into the + rail and the black PSU jumper wire into the - rail on the **left** side of the breadboard.\n",
    "0. Use 1 male to male wire to connect the + rail to the row with the long LED leg and another wire to connect the - rail to the resistor leg.\n",
    "0. Turn PSU on (still 3.3 V)\n",
    "\n",
    "<img style=\"height: 300px;\" src=\"images\\ex3_breadboard.png\"/></div>\n",
    "\n",
    "**Did the LED light up again? Why is this also a valid construction of the same circuit schematic?** \n",
    "\n",
    "The answer has to do with how a breadboard is internally connected (see image below). Each row of 5 holes (ABCDE or FGHIJ) are electrically connected to each other within the breadboard (underneath the plastic) so we can imagine tiny jumper wires connecting all of the 5 holes to each other. Since these 5 holes are connected, they are all on the same node and should have the same potential. The 2 columns of holes (a red +  and blue - column) on the side of your breadboard are often referred to as the power rails. Instead of horizontal internal connections, the power rails are connected vertically all the way down the side.\n",
    "\n",
    "Notice how there is a separate piece of conductive metal connecting each row of columns ABCDE and FGHIJ. The metal row splits between columns E and F so the 2 sides of each row can have different voltage readings. The same is true for all 4 power rails. Even though the 2 sets look the same, they are in no way internally linked.\n",
    "\n",
    "<img style=\"height: 200px;\" src=\"images\\breadboard_pulled_rail.jpg\"/></div>\n",
    "\n",
    "**Keeping in mind that current will flow through all the metal internal breadboard connections, convince yourself again that this circuit has current flowing through the LED and resistor in the same exact way as in the previous circuit setup.**\n"
   ]
  },
  {
   "cell_type": "markdown",
   "metadata": {},
   "source": [
    "**ANSWER THE FOLLOWING QUESTIONS ABOUT YOUR BREADBOARDED CIRCUIT:**\n",
    "<font color=\"red\">\n",
    "**Clip one end of a male to male wire to the gray oscilloscope probe.** <br>\n",
    "1. Insert the free end of the oscilloscope wire into multiple holes in the left set of (+) and (-) rails on the breadboard. What are their voltage readings? <br><br>\n",
    "\n",
    "`YOUR ANSWER HERE` <br><br>\n",
    "\n",
    "2. Probe multiple holes of the row the LED and resistor leg share. Is this voltage reading the same as in the previous section's number 1 and 2?<br><br>\n",
    "\n",
    "`YOUR ANSWER HERE` <br><br>\n",
    "\n",
    "3. Move the LED to the right half of the breadboard by moving it to **column J** while keeping the 2 legs in the same rows. Did the LED light up? Is the breadboard internally connected across the gap (between col E and F)?<br><br>\n",
    "\n",
    "`YOUR ANSWER HERE` <br><br>\n",
    "\n",
    "4. Do you need the 2 jumper wires (from the rails to middle of board) in the above picture? Move your resistor and LED so that you don't need those jumpers.\n",
    "    \n",
    "`YOUR ANSWER HERE` <br><br>\n",
    "\n",
    "</font>"
   ]
  },
  {
   "cell_type": "markdown",
   "metadata": {},
   "source": [
    "<a id='task4b'></a>\n",
    "## <span style=\"color:blue\">Task 1b: Breadboard Debugging</span>\n",
    "\n",
    "Take a look at the breadboard on the left and compare it to the circuit diagram on the right. Assuming the ground rails are plugged in correctly (+ is +5V, - is GND), can you identify **two** differences between the breadboarded circuit and the circuit diagram? What will happen if the circuit is plugged in? What will happen if you fix the circuit to be identical to the circuit diagram and then plug it in? Feel free to build both the 'buggy' and correct circuits on your breadboard to compare them!"
   ]
  },
  {
   "cell_type": "markdown",
   "metadata": {},
   "source": [
    "<center style=\"font-size: 18px; font-weight: bold;\">\n",
    "<div style=\"display: inline-block; margin-left: auto; margin-right: auto; margin-bottom: 14px;\" border=\"0\"><div>Breadboard Image</div>\n",
    "<img style=\"height: 500px;\" src=\"images\\touch_1_bb2_1.png\"/></div>\n",
    "\n",
    "<div style=\"display: inline-block; margin-left: 10px; margin-right: auto; margin-bottom: 14px;\" border=\"0\"><div>Intended circuit diagram</div>\n",
    "<img style=\"height: 500px;\" src=\"images\\touch_1_sc2_1.png\"/></div>\n",
    "\n",
    "</center>"
   ]
  },
  {
   "cell_type": "markdown",
   "metadata": {},
   "source": [
    "**<span style=\"color:red\">What are the problems with the buggy breadboard? If you are having trouble identifying the issue, try and recreate the breadboard, and power it with the PSU set to $5V$ and $0.1A$ so that the LED lights up.</span>**\n",
    "\n",
    "Hint: Try to follow the current like you did above, travelling clockwise throught the components, starting at the (+) of the PSU."
   ]
  },
  {
   "cell_type": "markdown",
   "metadata": {},
   "source": [
    "`YOUR ANSWER HERE` <br><br>"
   ]
  },
  {
   "cell_type": "markdown",
   "metadata": {},
   "source": [
    "<a id='task2'></a>\n",
    "## <span style=\"color:blue\">Task 2: Setting Up the Ambient Light Sensor</span>\n",
    "#### Materials & Equipment\n",
    "* **From the Lab Kit**\n",
    "<br/><br/>\n",
    "<center>\n",
    "<table>\n",
    "<tr>\n",
    "<td width=\"180px\" style=\"border: 1px solid #000000;\"><center>1x Ambient Light Sensor</center></td>\n",
    "<td width=\"180px\" style=\"border: 1px solid #000000;\"><center>1x **100k$\\Omega$** Resistor<br/>**[Brown-Black-Yellow-Gold]**</center></td>\n",
    "<td width=\"180px\" style=\"border: 1px solid #000000;\"><center>1x Breadboard</center></td>\n",
    "<td width=\"180px\" style=\"border: 1px solid #000000;\"><center>2x Male-to-Male Jumper Wires with Exposed Metal Connections on Both Ends</center></td>\n",
    "</tr>\n",
    "<tr>\n",
    "<td style=\"border: 1px solid #000000;\"><img src=\"images/phototransistor.svg\" style=\"width: 180px;\"/></td>\n",
    "<td style=\"border: 1px solid #000000;\"><img src=\"images/res100k.png\" style=\"width: 180px;\"/></td>\n",
    "<td style=\"border: 1px solid #000000;\"><img src=\"images/bb.png\" style=\"width: 180px;\"/></td>\n",
    "<td style=\"border: 1px solid #000000;\"><img src=\"images/mm-jumper.png\" style=\"width: 180px;\"/></td>\n",
    "</table>\n",
    "</center>\n",
    "<br/>\n",
    "* **From the Back Wall** (described earlier)\n",
    "  * 1x Oscilloscope Probe\n",
    "  * 1x Black, 1x Red PSU Cables"
   ]
  },
  {
   "cell_type": "markdown",
   "metadata": {},
   "source": [
    "<center><img src=\"images/task1_schem.svg\" align=\"center\" style=\"height:200px\" /><figcaption>Task 2 Schematic</figcaption></center>\n",
    "<br/>\n",
    "This is an overview of what we are about to do. Step by step instructions are after this. First, we will use the breadboard to construct the circuit shown in the schematic above. Next, we will power the circuit using the PSU, and then we will use the oscilloscope to observe the voltage over time between points A and B. You can see how the components are connected with the following images:\n",
    "<br/><br/>\n",
    "<center>\n",
    "<img src=\"images/task1_bb.svg\" align=\"center\" style=\"height:600px\" />\n",
    "<figcaption>Cartoon View: How the Circuit Components, Breadboard, and PSU Should Be Hooked Up</figcaption>\n",
    "</center>\n",
    "<br/>\n",
    "<center>\n",
    "<table>\n",
    "<tr>\n",
    "<td><img src=\"images/close-board.jpg\" align=\"center\" /></td>\n",
    "<td><img src=\"images/far-board.jpg\" align=\"center\" /></td>\n",
    "</tr>\n",
    "</table>\n",
    "<figcaption>Actual Setup</figcaption>\n",
    "</center>\n",
    "\n",
    "\n",
    "<span style=\"color:red\">**DO THE FOLLOWING STEPS TO SET UP YOUR LIGHT SENSING CIRCUIT**</span>\n",
    "1. Connect the shorter leg of the ambient light sensor to any hole in the **<span style=\"color:red\">red (+) column</span>** of the breadboard. Connect the longer leg of the ambient light sensor to any hole that is in a **lettered column** and *NOT* in the <span style=\"color:red\">red (+) column</span> OR the <span style=\"color:blue\">blue (-) column.</span>\n",
    "\n",
    "2. Connect one leg of the 100 $k\\Omega$ resistor to a hole in the **same row** (and side of the breadboard) as the longer leg of the ambient light sensor. Connect the other leg of the resistor to any hole in the **<span style=\"color:blue\">blue (-) column</span>** of the breadboard. Be careful to prevent the metal parts of the two components from touching.\n",
    "\n",
    "3. Connect the oscilloscope probe to the oscilloscope. Connect the **black clip** of the oscilloscope probe to the leg of the resistor in the **<span style=\"color:blue\">blue (-) column</span>**, corresponding to **B**. Connect the **<span style=\"color:gray\">gray clip</span>** of the oscilloscope probe to the other leg of the resistor, corresponding to **A** in the circuit.\n",
    "\n",
    "4. Set up PSU to 3.3V (use the +6 channel) and the current limit to 0.1A\n",
    "5. Turn the PSU output ON and press the `Auto Scale` button on the oscilloscope\n",
    "\n",
    "\n",
    "**<span style=\"color:red\">What happens to the signal on the oscilloscope as the amount of ambient light changes?</span>** Note: You can change the amount of light by putting your hand over the sensor.\n"
   ]
  },
  {
   "cell_type": "markdown",
   "metadata": {},
   "source": [
    "YOUR ANSWER HERE"
   ]
  },
  {
   "cell_type": "markdown",
   "metadata": {},
   "source": [
    "<a id='task3'></a>\n",
    "## <span style=\"color:blue\">Task 3: Connecting the Launchpad</span>\n",
    "#### Materials & Equipment\n",
    "* **From the Lab Kit**\n",
    "<br/><br/>\n",
    "<center>\n",
    "<table>\n",
    "<tr>\n",
    "<td width=\"180px\" style=\"border: 1px solid #000000;\"><center>1x TI Launchpad MSP430F5529LP</center></td>\n",
    "<td width=\"180px\" style=\"border: 1px solid #000000;\"><center>1x Micro-USB to USB-A Cable (Inside the Launchpad Box)</center></td>\n",
    "<td width=\"180px\" style=\"border: 1px solid #000000;\"><center>3x Female-to-Male Jumper Wires; Exposed Metal on One Side </center></td>\n",
    "</tr>\n",
    "<tr>\n",
    "<td style=\"border: 1px solid #000000;\"><img src=\"images/msp.png\" style=\"width: 180px;\"/></td>\n",
    "<td style=\"border: 1px solid #000000;\"><img src=\"images/usb.png\" style=\"width: 180px;\"/></td>\n",
    "<td style=\"border: 1px solid #000000;\"><img src=\"images/mf-jumper.png\" style=\"width: 180px;\"/></td>\n",
    "</table>\n",
    "</center>\n",
    "<br>\n",
    "* **Other Supplies**\n",
    "\n",
    "  * 1x Circuit from Task 1\n",
    "  * 1x Station Computer *(not guaranteed to work with your PC)*\n",
    "\n",
    "The MSP430 Launchpad is a popular [microcontroller](http://en.wikipedia.org/wiki/Microcontroller) -- a small computer on a single chip. Microcontrollers are found at the heart of all embedded devices and have enough processing power to perform simple tasks using very little power. Because of its limited processing capabilities, the Launchpad does not run an operating system like desktop computers or servers. Instead, the device executes a single function continuously in a loop when it is powered on. For this module, our program needs to read a voltage value and send it to a computer via the USB connection. We will now walk through the process of using a Launchpad and uploading code to it.\n",
    "\n",
    "Note: The Launchpad is produced by Texas Instruments and comes in many flavors. The model we will be using throughout the semester is the MSP430F5529. This is the model number you will want to reference whenever prompted.\n",
    "\n",
    "**<span style=\"color:red\">\n",
    "Please read everything in and follow along in the [MSP sections of the equipment guide](https://docs.google.com/document/d/e/2PACX-1vTVrGBDbRfVI0_LjSeTfw8doili8iS_E_9Fwdk2UShgf7WAgVVoHtyMOpjXadXwD45HNXUbb2ASF18H/pub#h.ngmg73bi0zzk) to set up the Launchpad to computer connection and upload the file \"LightSensor.ino\". </span>**\n",
    "\n",
    "**<span style=\"color:red\">\n",
    "Steps 1-6 are a summary of what you should have completed after reading the MSP equipment guide section. Now do steps 7-8 to connect the Launchpad to the circuit you build in Task 2.\n",
    "</span>**"
   ]
  },
  {
   "cell_type": "markdown",
   "metadata": {},
   "source": [
    "\n",
    "\n",
    "$1.$ Use the USB cable (included in the Launchpad box) to connect the Launchpad to your computer. <br>\n",
    "$2.$ Open **Energia** on your desktop\n",
    "<br>\n",
    "$3.$ Select **\"Tools > Board > MSP-EXP430F5529LP\"**.\n",
    "<br>\n",
    "$4.$ In Energia, select the right serial port via **\"Tools > Port > COM#\"**. \n",
    "<br>\n",
    "$5.$ Open (**File > Open**) the file \"LightSensor.ino\" (included in the lab zip file). The Launchpad requires that the \".ino\" source file be placed in a folder with the same name; e.x. LightSensor.ino should be found in **`..../LightSensor/LightSensor.ino`**. This file has code to periodically read the voltage of the Launchpad's pin **`P6.0`** and send this data over a serial interface called UART to a computer.\n",
    "<br>\n",
    "$6.$ Click the **\"Upload\"** button (white circle with a right-pointing arrow). This should compile and upload code to the Launchpad.\n",
    "<br>\n",
    "$7.$ Connect the Launchpad to the sensor circuit (see figures below). Our goal is to use the Launchpad to replace both the Power Supply and Oscilloscope. \n",
    "\n",
    "* The Launchpad is capable of supplying the $3.3V$ necessary to power the circuit and can also read and send voltage values to our computer via Input / Output pins. Something to keep in mind that gives you flexibility in the future: the Launchpad has both Male and Female connections (Male on the front side, Female on the back). The schematic that you will build is shown below. Labels in purple indicate connections to the Launchpad.\n",
    "<br>\n",
    "<center>\n",
    "<img src=\"images/task2_schem.svg\" align=\"center\" style=\"height:200px\" />\n",
    "<figcaption>Task 3 Schematic</figcaption>\n",
    "</center>\n",
    "  * Disconnect and turn off the power supply. We won't be needing this anymore!\n",
    "  * Disconnect the oscilloscope probe. We won't be needing this either!\n",
    "  * Use a **Female-to-Male** jumper wire to connect the **$3.3 V$** pin on the front of the Launchpad (highlighted in green and labeled as 3V3) to the hole below the **<span style=\"color:red\">red (+)</span>** on the breadboard; this is the same location the <span style=\"color:red\">positive (+)</span> Power Supply wire was connected to.\n",
    "  * Use a **Female-to-Male** jumper wire to connect the **GND** port (either one) on the front of the Launchpad (highlighted in blue) to the hole below the **<span style=\"color:blue\">blue (-)</span>** on the breadboard; this is the same location that the <span style=\"color:black\">negative (-)</span> Power Supply wire was connected to.\n",
    "  * Use a **Female-to-Male** jumper wire to connect the output of the circuit (which was previously connected to the **<span style=\"color:gray\">gray clip</span>** of the oscilloscope probe) to pin **P6.0** on the front of the Launchpad (highlighted in yellow).\n",
    "<br/><br/>\n",
    "<center>\n",
    "<img src=\"images/task2_bb.svg\" align=\"center\" style=\"height:300px\" />\n",
    "<figcaption>Cartoon View: How the Circuit Components, Breadboard, and Launchpad Jumper Wires Should Be Hooked Up</figcaption>\n",
    "</center>\n",
    "<br>\n",
    "<center>\n",
    "<table>\n",
    "<tr>\n",
    "<td><center><img src=\"images/launchpad_pins.png\" align=\"center\" style=\"height:300px\" /><figcaption>Launchpad Front with Pins Labelled</figcaption></center></td>\n",
    "<td><center><img src=\"images/mspboard.jpg\" align=\"center\" style=\"height:300px\" /><figcaption>Actual Setup</figcaption></center></td>\n",
    "</tr>\n",
    "</table>\n",
    "</center>\n",
    "<br/><br/>\n",
    "\n",
    "$8.$ Open up the Serial Monitor in Energia by going to **\"Tools > Serial Monitor\"** or use the shortcut (Ctrl+Shift+M). You should see a stream of numbers between 0 and 4095 relative to the light exposed on the sensor. \n",
    "\n",
    "If you are getting only single digit numbers, make sure your sensor is plugged in the correct orientation (shorter leg in + rail). If the numbers do not appear, try one of the following: reset the Launchpad, unplug and replug the Launchpad from the PC, double check that you uploaded to the correct COM port by using the Device Manager, and make sure the bottom right of the Serial Monitor says \"9600 baud\". The Serial Monitor presents a graphical display of the bytes being received over UART from the Launchpad.\n",
    "<br/><br/>\n",
    "<center>\n",
    "<img src=\"images/comread.png\" align=\"center\" style=\"height:400px\" />\n",
    "</center>\n",
    "<br/>\n",
    "**<span style=\"color:red\">Try covering the ambient light sensor with your hands. What happens to the numbers in the Serial Monitor? Do these numbers increase or decrease as the amount of ambient light increases?</span>**"
   ]
  },
  {
   "cell_type": "markdown",
   "metadata": {},
   "source": [
    "YOUR ANSWER HERE"
   ]
  },
  {
   "cell_type": "markdown",
   "metadata": {},
   "source": [
    "<a id='task4'></a>\n",
    "## <span style=\"color:blue\">Task 4: Virtual Oscilloscope</span>\n",
    "#### Materials & Equipment\n",
    "* **From the Lab Kit**\n",
    "<br/><br/>\n",
    "<center>\n",
    "<table>\n",
    "<tr>\n",
    "<td width=\"180px\" style=\"border: 1px solid #000000;\"><center>1x Capacitor. It will most likely be yellow. Use the 0.1$\\mu$F capacitor (it says 104 on it).</center></td>\n",
    "</tr>\n",
    "<tr>\n",
    "<td style=\"border: 1px solid #000000;\"><img src=\"images/cap104.png\" style=\"width: 180px;\"/></td>\n",
    "</table>\n",
    "</center>\n",
    "<br>\n",
    "* **Other Supplies**\n",
    "\n",
    "  * 1x Setup from Task 2\n",
    "  \n",
    "First, close Energia. ** Run the code block below.** This code is used to select the right COM port (you'll be prompted to input the right port) and starts the \"Virtual Oscilloscope\". **The prompt asks you for your choice's *index*, NOT Port #!** Once you run the code, check the output for errors. Assuming the code ran error free, you should see an icon appear on the bottom navigation bar (it will look like a Spider Web). Click on this icon. You should see a moving plot; this is the oscilloscope. The vertical axis is in units of Volts (ignore the units on the horizontal axis). **Try covering part of the ambient light sensor and see what happens to the plot.**\n",
    "\n",
    "**<span style=\"color:red\">Run the cell below.</span>**"
   ]
  },
  {
   "cell_type": "code",
   "execution_count": null,
   "metadata": {
    "collapsed": true
   },
   "outputs": [],
   "source": [
    "%run serial_comm.py"
   ]
  },
  {
   "cell_type": "markdown",
   "metadata": {},
   "source": [
    "*If you are getting an error 'cannot convert string to float' or something strange, restart your MSP (unplug and replug), check to make sure your COM port is correct, then restart your notebook (Kernel -> Restart Kernel).*\n",
    "\n",
    "**Follow the steps below to add the capacitor to the circuit, per the schematic below.**\n",
    "<br><br>\n",
    "<center>\n",
    "<img src=\"images/task3_schem.svg\" align=\"center\" style=\"width:300px\" />\n",
    "<figcaption>Task 3 Schematic</figcaption>\n",
    "</center>\n",
    "\n",
    "$1.$ Disconnect all of the jumper wires connected to the Launchpad.\n",
    "\n",
    "$2.$ Put one leg of the capacitor in the row that is shared between one leg of the ambient light sensor and one leg of the resistor. Be careful that the metal parts of the resistor, capacitor, and ambient light sensor don't touch!\n",
    "\n",
    "$3.$ Put the other leg of the capacitor in any hole in the **<span style=\"color:blue\">blue (-) column</span>** of the breadboard; the other leg of the resistor is also in this column. If the leg can't reach, try rearranging your components or use another jumper wire. The resistor and capacitor are now connected in \"parallel\".\n",
    "\n",
    "$4.$ Reconnect the jumper wires from the Launchpad in the same places as before. Your circuit should now resemble the pictures below (actual holes used may vary):\n",
    "<center>\n",
    "<img src=\"images/task3_bb.svg\" align=\"center\" style=\"height:400px\" />\n",
    "<figcaption>Cartoon View: How the Circuit Components, Breadboard, and Launchpad Jumper Wires Should Be Hooked Up</figcaption>\n",
    "</center>\n",
    "<br>\n",
    "<center>\n",
    "<img src=\"images/withcap.jpg\" align=\"center\" style=\"width:250px\" />\n",
    "<figcaption>Actual Setup</figcaption>\n",
    "</center>\n",
    "\n",
    "**<span style=\"color:red\">Run the code cell above to open up the virtual oscilloscope again. Did the capacitor make a difference? (Hint: The difference is subtle, but still noticeable.) How will this affect the quality of our future pictures?</span> To really observe the effect of the capacitor, keep the Virtual Oscilloscope running and try to get the curve to hover around a non-max value. Then, repeatedly take the capacitor out of the breadboard and put it back in.**"
   ]
  },
  {
   "cell_type": "markdown",
   "metadata": {},
   "source": [
    "`YOUR ANSWER HERE` <br><br>"
   ]
  },
  {
   "cell_type": "markdown",
   "metadata": {},
   "source": [
    "<a id='checkoff'></a>\n",
    "## Checkoff\n",
    "When you are ready to get checked off, please have each person in your group fill out the **[Check Off Form](https://forms.gle/hGEDvovN9xgFinE2A)**. Follow the form exactly and submit. Your GSI or a Lab Assistant will come by once they are available and go through some checkoff questions with your group. They will go through the checkoff list in order. Please be patient!\n",
    "\n",
    "## **<span style=\"color:red\"> Do not take apart your setup before being checked off. </span>**\n",
    "\n",
    "#### Post checkoff clean up: (this applies to each week's lab)\n",
    "1. Pack away your launchpad and lab kit materials to bring home  - make a note to bring them back next week!\n",
    "2. Throw away any trash at your station\n",
    "3. Return the wires from the back walls\n",
    "4. Sign out of the computers - DO NOT SHUT DOWN\n",
    "5. Check that other machines at lab station are powered off\n"
   ]
  },
  {
   "cell_type": "markdown",
   "metadata": {},
   "source": [
    "<a id='extra'></a>\n",
    "## Additional Resources\n",
    "Congratulations, you can now record sensor data on a computer!\n",
    "There are all kinds of exciting things you can do with this setup. Once your sensor data is accessible in Python, you can use sensor input as a cue to send a text message or tweet, start or stop programs, and more! The possibilities are endless!\n",
    "\n",
    "If you're interested in applying what you've learned to your own personal projects, there are a variety of spaces on campus with additional resources to support these kinds of activities: \n",
    "* [Supernode (246 Cory Hall)](http://supernode.berkeley.edu)\n",
    "* [CITRIS Invention Lab (141 Sutardja Dai Hall)](http://invent.citris-uc.org)\n",
    "* [Jacobs Hall](http://engineeringdesign.berkeley.edu/jacobs-hall/)"
   ]
  }
 ],
 "metadata": {
  "anaconda-cloud": {},
  "kernelspec": {
   "display_name": "Python 3",
   "language": "python",
   "name": "python3"
  },
  "language_info": {
   "codemirror_mode": {
    "name": "ipython",
    "version": 3
   },
   "file_extension": ".py",
   "mimetype": "text/x-python",
   "name": "python",
   "nbconvert_exporter": "python",
   "pygments_lexer": "ipython3",
   "version": "3.8.0"
  }
 },
 "nbformat": 4,
 "nbformat_minor": 1
}

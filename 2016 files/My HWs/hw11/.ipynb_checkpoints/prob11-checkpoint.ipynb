{
 "cells": [
  {
   "cell_type": "markdown",
   "metadata": {},
   "source": [
    "# Problem Set 12 Code"
   ]
  },
  {
   "cell_type": "code",
   "execution_count": null,
   "metadata": {
    "collapsed": true
   },
   "outputs": [],
   "source": [
    "%pylab inline\n",
    "import numpy as np\n",
    "import matplotlib.pyplot as plt"
   ]
  },
  {
   "cell_type": "markdown",
   "metadata": {
    "collapsed": true
   },
   "source": [
    "# Finding Signals in Noise"
   ]
  },
  {
   "cell_type": "code",
   "execution_count": null,
   "metadata": {
    "collapsed": true
   },
   "outputs": [],
   "source": [
    "# Run this first\n",
    "%matplotlib inline  \n",
    "import numpy as np\n",
    "import scipy as sp\n",
    "import scipy.linalg as la\n",
    "import pylab as plt\n",
    "import numpy.random\n",
    "\n",
    "N = 1000\n",
    "\n",
    "def rand_vector(n): # returns a random {+1, -1} vector of length n\n",
    "    return np.random.randint(2, size=n)*2 - 1.0\n",
    "\n",
    "def rand_normed_vector(n): # returns a random normalized vector of length n\n",
    "    x = rand_vector(n)\n",
    "    return x / la.norm(x)\n",
    "\n",
    "def cross_corr(f, g):\n",
    "    # returns the cross-correlation (a vector of all the inner-products of 'g' with shifted versions of 'f')\n",
    "    C = la.circulant(f)\n",
    "    corr = C.T.dot(g)\n",
    "    return corr"
   ]
  },
  {
   "cell_type": "markdown",
   "metadata": {
    "collapsed": true
   },
   "source": [
    "# (a)"
   ]
  },
  {
   "cell_type": "code",
   "execution_count": null,
   "metadata": {
    "collapsed": true
   },
   "outputs": [],
   "source": [
    "# generate a random normalized vector for s1\n",
    "# (running this cell again will generate a new random vector)\n",
    "s1 = rand_normed_vector(N)\n",
    "\n",
    "# compute all the inner-products of s1 with shifted versions of s1\n",
    "# (ie, the cross-correlation of s1 with s1)\n",
    "corr = cross_corr(s1, s1)\n",
    "\n",
    "# The inner-prouct <s1, s1^(1)> is:\n",
    "print(corr[1])\n",
    "\n",
    "# np.roll circularly shifts the signal\n",
    "# so the above inner-product could be computed as:\n",
    "print(np.dot(s1, np.roll(s1,1)))\n",
    "\n",
    "# Plot the autocorrelation:\n",
    "plt.title(\"Autocorrelation s1\")\n",
    "plt.plot(corr)\n",
    "\n",
    "x1,x2,y1,y2 = plt.axis()\n",
    "plt.axis([x1-50,x2+50,y1,y2])\n",
    "\n",
    "plt.show()"
   ]
  },
  {
   "cell_type": "markdown",
   "metadata": {},
   "source": [
    "# (b)"
   ]
  },
  {
   "cell_type": "code",
   "execution_count": null,
   "metadata": {
    "collapsed": true
   },
   "outputs": [],
   "source": [
    "y = np.roll(s1, 10) # Received y = s1 shifted by 10\n",
    "\n",
    "# Compute the cross-correlation (all the inner-products of y with shifted versions of s1)\n",
    "corr = cross_corr(s1, y)\n",
    "\n",
    "# Plot\n",
    "plt.title(\"cross-correlation s1, y\")\n",
    "plt.plot(corr)\n",
    "\n",
    "x1,x2,y1,y2 = plt.axis()\n",
    "plt.axis([x1-50,x2+50,y1,y2])\n",
    "plt.show()\n",
    "\n",
    "# Find the index of maximum correlation (inner-product)\n",
    "print(np.argmax(corr))"
   ]
  },
  {
   "cell_type": "markdown",
   "metadata": {},
   "source": [
    "# (c)"
   ]
  },
  {
   "cell_type": "code",
   "execution_count": null,
   "metadata": {
    "collapsed": true
   },
   "outputs": [],
   "source": [
    "# generate a random normalized vector for s1,\n",
    "# and a random normalized vector for n\n",
    "# (running this cell again will generate new random vectors)\n",
    "s1 = rand_normed_vector(N)\n",
    "n = rand_normed_vector(N)\n",
    "\n",
    "print(np.abs(np.dot(s1, n)))"
   ]
  },
  {
   "cell_type": "markdown",
   "metadata": {},
   "source": [
    "# (d)\n",
    "This is the code from part (b), but with the received signal y additionally corrupted by noise"
   ]
  },
  {
   "cell_type": "code",
   "execution_count": null,
   "metadata": {
    "collapsed": true
   },
   "outputs": [],
   "source": [
    "s1 = rand_normed_vector(N)\n",
    "n = rand_normed_vector(N)\n",
    "y = np.roll(s1, 10) + 0.1*n\n",
    "\n",
    "corr = cross_corr(s1, y)\n",
    "\n",
    "plt.title(\"cross-correlation s1, y\")\n",
    "plt.plot(corr)\n",
    "\n",
    "x1,x2,y1,y2 = plt.axis()\n",
    "plt.axis([x1-50,x2+50,y1,y2])\n",
    "plt.show()\n",
    "\n",
    "# Find the index of maximum correlation (inner-product)\n",
    "np.argmax(corr)"
   ]
  },
  {
   "cell_type": "markdown",
   "metadata": {},
   "source": [
    "# (e)\n",
    "Copy the code provided for part (d), but modify appropriately so the noise is higher.\n",
    "You should generate two cross-correlation plots, one for each noise level in the question.\n",
    "(For example, you can just copy the code from part (d) twice.)"
   ]
  },
  {
   "cell_type": "code",
   "execution_count": null,
   "metadata": {
    "collapsed": true
   },
   "outputs": [],
   "source": [
    "## CODE HERE"
   ]
  },
  {
   "cell_type": "markdown",
   "metadata": {},
   "source": [
    "# (f)"
   ]
  },
  {
   "cell_type": "code",
   "execution_count": null,
   "metadata": {
    "collapsed": true
   },
   "outputs": [],
   "source": [
    "s1 = rand_normed_vector(N)\n",
    "s2 = rand_normed_vector(N)\n",
    "\n",
    "y = np.roll(s1, 10) + np.roll(s2, 100)\n",
    "\n",
    "# Compute cross-correlations:\n",
    "corr_s1_y = cross_corr(s1, y)\n",
    "corr_s2_y = cross_corr(s2, y)\n",
    "\n",
    "# Plot cross-correlations:\n",
    "plt.title(\"cross-correlation s1, y\")\n",
    "plt.plot(cross_corr(s1, y))\n",
    "x1,x2,y1,y2 = plt.axis()\n",
    "plt.axis([x1-50,x2+50,y1,y2])\n",
    "plt.show()\n",
    "\n",
    "plt.title(\"cross-correlation s2, y\")\n",
    "plt.plot(cross_corr(s2, y))\n",
    "x1,x2,y1,y2 = plt.axis()\n",
    "plt.axis([x1-50,x2+50,y1,y2])\n",
    "plt.show()\n",
    "\n",
    "j = np.argmax(corr_s1_y) # find the first signal delay (max index of correlation)\n",
    "k = np.argmax(corr_s2_y) # find the second signal delay\n",
    "print(j,k)"
   ]
  },
  {
   "cell_type": "markdown",
   "metadata": {},
   "source": [
    "# (g)\n",
    "This is the same code as part (f), but with slight modification to how the received signal y generated.\n",
    "Run the below cell a few times, to test for different choices of random signals."
   ]
  },
  {
   "cell_type": "code",
   "execution_count": null,
   "metadata": {
    "collapsed": true
   },
   "outputs": [],
   "source": [
    "s1 = rand_normed_vector(N)\n",
    "s2 = rand_normed_vector(N)\n",
    "\n",
    "y = np.roll(s1, 10) + 0.1*np.roll(s2, 100)\n",
    "\n",
    "# Compute cross-correlations:\n",
    "corr_s1_y = cross_corr(s1, y)\n",
    "corr_s2_y = cross_corr(s2, y)\n",
    "\n",
    "# Plot cross-correlations:\n",
    "plt.title(\"cross-correlation s1, y\")\n",
    "plt.plot(cross_corr(s1, y))\n",
    "x1,x2,y1,y2 = plt.axis()\n",
    "plt.axis([x1-50,x2+50,y1,y2])\n",
    "plt.show()\n",
    "\n",
    "plt.title(\"cross-correlation s2, y\")\n",
    "plt.plot(cross_corr(s2, y))\n",
    "x1,x2,y1,y2 = plt.axis()\n",
    "plt.axis([x1-50,x2+50,y1,y2])\n",
    "plt.show()"
   ]
  },
  {
   "cell_type": "markdown",
   "metadata": {},
   "source": [
    "# (h)"
   ]
  },
  {
   "cell_type": "code",
   "execution_count": null,
   "metadata": {
    "collapsed": true
   },
   "outputs": [],
   "source": [
    "corr_s1_y = cross_corr(s1, y)\n",
    "j = np.argmax(corr_s1_y) # find the first signal delay\n",
    "print(j)\n",
    "\n",
    "# subtract out the contribution of the first signal\n",
    "y_prime = y - np.roll(s1, j)\n",
    "\n",
    "# correlate the residual against the second signal\n",
    "corr_s2_y = cross_corr(s2, y_prime)\n",
    "\n",
    "# Plot \n",
    "plt.title(\"cross-correlation s2, y'\")\n",
    "plt.plot(corr_s2_y)\n",
    "x1,x2,y1,y2 = plt.axis()\n",
    "plt.axis([x1-50,x2+50,y1,y2])\n",
    "plt.show()\n",
    "\n",
    "k = np.argmax(corr_s2_y) # find the second signal delay by looking at the index of max correlation\n",
    "print(k)"
   ]
  },
  {
   "cell_type": "markdown",
   "metadata": {},
   "source": [
    "# (i)"
   ]
  },
  {
   "cell_type": "code",
   "execution_count": null,
   "metadata": {
    "collapsed": true
   },
   "outputs": [],
   "source": [
    "s1 = rand_normed_vector(N)\n",
    "s2 = rand_normed_vector(N)\n",
    "\n",
    "y = 0.7*np.roll(s1, 10) + 0.5*np.roll(s2, 100)\n",
    "\n",
    "corr_s1_y = cross_corr(s1, y)\n",
    "j = np.argmax(corr_s1_y) # find the first signal delay\n",
    "\n",
    "corr_s2_y = cross_corr(s2, y)\n",
    "k = np.argmax(corr_s2_y) # find the second signal delay\n",
    "\n",
    "print(j, k)\n",
    "\n",
    "# Once we have found the shifts, estimate the coefficients as inner-products:\n",
    "a1 = np.dot(y, np.roll(s1, j))\n",
    "a2 = np.dot(y, np.roll(s2, k))\n",
    "\n",
    "print(a1, a2)"
   ]
  },
  {
   "cell_type": "markdown",
   "metadata": {},
   "source": [
    "# (j)\n",
    "This is the same code as part (i), but with noise added to the received signal y."
   ]
  },
  {
   "cell_type": "code",
   "execution_count": null,
   "metadata": {
    "collapsed": true
   },
   "outputs": [],
   "source": [
    "s1 = rand_normed_vector(N)\n",
    "s2 = rand_normed_vector(N)\n",
    "n = rand_normed_vector(N)\n",
    "\n",
    "y = 0.7*np.roll(s1, 10) + 0.5*np.roll(s2, 100) + 0.1*n\n",
    "\n",
    "corr_s1_y = cross_corr(s1, y)\n",
    "j = np.argmax(corr_s1_y) # find the first signal delay\n",
    "\n",
    "corr_s2_y = cross_corr(s2, y)\n",
    "k = np.argmax(corr_s2_y) # find the second signal delay\n",
    "\n",
    "print(j, k)\n",
    "\n",
    "# Once we have found the shifts, estimate the coefficients as inner-products:\n",
    "a1 = np.dot(y, np.roll(s1, j))\n",
    "a2 = np.dot(y, np.roll(s2, k))\n",
    "\n",
    "print(a1, a2)"
   ]
  },
  {
   "cell_type": "markdown",
   "metadata": {
    "collapsed": true
   },
   "source": [
    "# (k)"
   ]
  },
  {
   "cell_type": "code",
   "execution_count": null,
   "metadata": {
    "collapsed": true
   },
   "outputs": [],
   "source": [
    "# Given the shifts j, k, setup the matrix A and vector b.\n",
    "\n",
    "# Hint: use np.roll(...) to circularly shift vectors.\n",
    "# For example, \"np.roll(s1, j)\" shifts the vector s1 by j indices.\n",
    "# A has columns c1, c2 which you should FILL IN BELOW.\n",
    "c1 = # FILL IN\n",
    "c2 = # FILL IN\n",
    "A = np.array([c1, c2]).T\n",
    "\n",
    "b = # FILL IN\n",
    "\n",
    "# Solve to find the linear least-square solution of Ax ~ b (minimizing error ||Ax - b||)\n",
    "xhat = la.inv(A.T.dot(A)).dot(A.T).dot(b)\n",
    "print(xhat)"
   ]
  },
  {
   "cell_type": "markdown",
   "metadata": {
    "collapsed": true
   },
   "source": [
    "# (l)"
   ]
  },
  {
   "cell_type": "code",
   "execution_count": null,
   "metadata": {
    "collapsed": true
   },
   "outputs": [],
   "source": [
    "# Load the signal vectors from file.\n",
    "npzfile = np.load(\"signals.npz\")\n",
    "y, s1, s2, s3 = [npzfile[f] for f in ['y','s1','s2','s3']]"
   ]
  },
  {
   "cell_type": "markdown",
   "metadata": {
    "collapsed": true
   },
   "source": [
    "Try to find the delays and coefficients of the three signals s1, s2, s2, from your received signal y.\n",
    "Hint: Make use of the provided code in the previous parts. This should be possible by mostly copy/pasting code.\n",
    "In particular, remember:\n",
    "\n",
    "- \"np.roll(s1, 123)\" circularly shifts vector s1 by 123\n",
    "- \"np.argmax(corr)\" finds the index of the maximum entry in vector \"corr\".\n",
    "\n",
    "Once you have found candidate delays j, k, l, try running the following function. You should recognize the output."
   ]
  },
  {
   "cell_type": "code",
   "execution_count": null,
   "metadata": {
    "collapsed": true
   },
   "outputs": [],
   "source": [
    "# Test your j,k,l by running this function:\n",
    "def test(j,k,l):\n",
    "    return [chr(int(i)) for i in (np.array([j,k,l])/20 + 60)]"
   ]
  },
  {
   "cell_type": "code",
   "execution_count": null,
   "metadata": {
    "collapsed": true
   },
   "outputs": [],
   "source": [
    "## TRY TO FIND THE SIGNALS HERE."
   ]
  }
 ],
 "metadata": {
  "anaconda-cloud": {},
  "kernelspec": {
   "display_name": "Python [default]",
   "language": "python",
   "name": "python3"
  },
  "language_info": {
   "codemirror_mode": {
    "name": "ipython",
    "version": 3
   },
   "file_extension": ".py",
   "mimetype": "text/x-python",
   "name": "python",
   "nbconvert_exporter": "python",
   "pygments_lexer": "ipython3",
   "version": "3.4.5"
  }
 },
 "nbformat": 4,
 "nbformat_minor": 0
}
